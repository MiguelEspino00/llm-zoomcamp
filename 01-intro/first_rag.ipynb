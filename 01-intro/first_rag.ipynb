{
 "cells": [
  {
   "cell_type": "code",
   "execution_count": 1,
   "id": "faa48238-42fd-4bea-8bfb-e5a30f5cde6b",
   "metadata": {},
   "outputs": [
    {
     "name": "stdout",
     "output_type": "stream",
     "text": [
      "--2024-06-24 11:39:54--  https://raw.githubusercontent.com/alexeygrigorev/minsearch/main/minsearch.py\n",
      "Resolving raw.githubusercontent.com (raw.githubusercontent.com)... 185.199.111.133, 185.199.108.133, 185.199.109.133, ...\n",
      "Connecting to raw.githubusercontent.com (raw.githubusercontent.com)|185.199.111.133|:443... connected.\n",
      "HTTP request sent, awaiting response... 200 OK\n",
      "Length: 3832 (3.7K) [text/plain]\n",
      "Saving to: ‘minsearch.py’\n",
      "\n",
      "minsearch.py        100%[===================>]   3.74K  --.-KB/s    in 0s      \n",
      "\n",
      "2024-06-24 11:39:54 (8.42 MB/s) - ‘minsearch.py’ saved [3832/3832]\n",
      "\n"
     ]
    }
   ],
   "source": [
    "!wget https://raw.githubusercontent.com/alexeygrigorev/minsearch/main/minsearch.py"
   ]
  },
  {
   "cell_type": "code",
   "execution_count": 58,
   "id": "f0a513a4-4f84-4731-b20c-94c5e35d089b",
   "metadata": {},
   "outputs": [],
   "source": [
    "import minsearch\n",
    "import os"
   ]
  },
  {
   "cell_type": "code",
   "execution_count": 59,
   "id": "f7bb4fd2-5995-4be4-8896-77d76c044702",
   "metadata": {},
   "outputs": [],
   "source": [
    "import json"
   ]
  },
  {
   "cell_type": "code",
   "execution_count": 60,
   "id": "983b3f2c-1302-47af-ad63-8446819072be",
   "metadata": {},
   "outputs": [],
   "source": [
    "with open('documents.json', 'rt') as f_in:\n",
    "    docs_raw = json.load(f_in)"
   ]
  },
  {
   "cell_type": "code",
   "execution_count": 61,
   "id": "d380d75d-a369-4b70-8f7d-adc88da5cda4",
   "metadata": {},
   "outputs": [],
   "source": [
    "documents = []\n",
    "\n",
    "for course_dict in docs_raw:\n",
    "    for doc in course_dict['documents']:\n",
    "        doc['course'] = course_dict['course']\n",
    "        documents.append(doc)"
   ]
  },
  {
   "cell_type": "code",
   "execution_count": 62,
   "id": "b15fc6c4-2f5e-4ca0-85ef-5ca1b5549f3e",
   "metadata": {},
   "outputs": [
    {
     "data": {
      "text/plain": [
       "{'text': \"The purpose of this document is to capture frequently asked technical questions\\nThe exact day and hour of the course will be 15th Jan 2024 at 17h00. The course will start with the first  “Office Hours'' live.1\\nSubscribe to course public Google Calendar (it works from Desktop only).\\nRegister before the course starts using this link.\\nJoin the course Telegram channel with announcements.\\nDon’t forget to register in DataTalks.Club's Slack and join the channel.\",\n",
       " 'section': 'General course-related questions',\n",
       " 'question': 'Course - When will the course start?',\n",
       " 'course': 'data-engineering-zoomcamp'}"
      ]
     },
     "execution_count": 62,
     "metadata": {},
     "output_type": "execute_result"
    }
   ],
   "source": [
    "documents[0]"
   ]
  },
  {
   "cell_type": "code",
   "execution_count": 63,
   "id": "068616e6-71a4-459a-97f9-dea65a247d72",
   "metadata": {},
   "outputs": [],
   "source": [
    "index = minsearch.Index(\n",
    "    text_fields=[\"question\", \"text\", \"section\"],\n",
    "    keyword_fields=[\"course\"])\n",
    "#Esto hace como una query tipo select"
   ]
  },
  {
   "cell_type": "code",
   "execution_count": 64,
   "id": "9e4b1f59-d334-4c4f-bfb0-2d3543444547",
   "metadata": {},
   "outputs": [],
   "source": [
    "query = \"the course has already started, can i still enroll?\""
   ]
  },
  {
   "cell_type": "code",
   "execution_count": 67,
   "id": "67b26963-3c50-480e-8900-696c3e00896b",
   "metadata": {},
   "outputs": [
    {
     "data": {
      "text/plain": [
       "'the course has already started, can i still enroll?'"
      ]
     },
     "execution_count": 67,
     "metadata": {},
     "output_type": "execute_result"
    }
   ],
   "source": [
    "query"
   ]
  },
  {
   "cell_type": "code",
   "execution_count": 65,
   "id": "675ffd0c-991a-41bc-8e9a-a28c7079cdd0",
   "metadata": {},
   "outputs": [
    {
     "data": {
      "text/plain": [
       "<minsearch.Index at 0x7c38dab36b60>"
      ]
     },
     "execution_count": 65,
     "metadata": {},
     "output_type": "execute_result"
    }
   ],
   "source": [
    "index.fit(documents)"
   ]
  },
  {
   "cell_type": "code",
   "execution_count": 66,
   "id": "69fd1cfb-da15-4627-bdb8-6466a3869d21",
   "metadata": {},
   "outputs": [],
   "source": [
    "boost = {\"question\": 3.0, \"section\": 0.5}\n",
    "\n",
    "#Potenciamos unos parámetros respecto de otros, utilizando elasticsearch\n",
    "\n",
    "results = index.search(\n",
    "    query=query,\n",
    "    filter_dict={'course':'data-engineering-zoomcamp'},\n",
    "    boost_dict=boost,\n",
    "    num_results=5\n",
    ")"
   ]
  },
  {
   "cell_type": "code",
   "execution_count": 68,
   "id": "738a7510-fed1-455b-94fb-b46d0429f8bb",
   "metadata": {},
   "outputs": [
    {
     "data": {
      "text/plain": [
       "[{'text': \"Yes, even if you don't register, you're still eligible to submit the homeworks.\\nBe aware, however, that there will be deadlines for turning in the final projects. So don't leave everything for the last minute.\",\n",
       "  'section': 'General course-related questions',\n",
       "  'question': 'Course - Can I still join the course after the start date?',\n",
       "  'course': 'data-engineering-zoomcamp'},\n",
       " {'text': 'Yes, we will keep all the materials after the course finishes, so you can follow the course at your own pace after it finishes.\\nYou can also continue looking at the homeworks and continue preparing for the next cohort. I guess you can also start working on your final capstone project.',\n",
       "  'section': 'General course-related questions',\n",
       "  'question': 'Course - Can I follow the course after it finishes?',\n",
       "  'course': 'data-engineering-zoomcamp'},\n",
       " {'text': \"The purpose of this document is to capture frequently asked technical questions\\nThe exact day and hour of the course will be 15th Jan 2024 at 17h00. The course will start with the first  “Office Hours'' live.1\\nSubscribe to course public Google Calendar (it works from Desktop only).\\nRegister before the course starts using this link.\\nJoin the course Telegram channel with announcements.\\nDon’t forget to register in DataTalks.Club's Slack and join the channel.\",\n",
       "  'section': 'General course-related questions',\n",
       "  'question': 'Course - When will the course start?',\n",
       "  'course': 'data-engineering-zoomcamp'},\n",
       " {'text': 'You can start by installing and setting up all the dependencies and requirements:\\nGoogle cloud account\\nGoogle Cloud SDK\\nPython 3 (installed with Anaconda)\\nTerraform\\nGit\\nLook over the prerequisites and syllabus to see if you are comfortable with these subjects.',\n",
       "  'section': 'General course-related questions',\n",
       "  'question': 'Course - What can I do before the course starts?',\n",
       "  'course': 'data-engineering-zoomcamp'},\n",
       " {'text': 'Yes, the slack channel remains open and you can ask questions there. But always sDocker containers exit code w search the channel first and second, check the FAQ (this document), most likely all your questions are already answered here.\\nYou can also tag the bot @ZoomcampQABot to help you conduct the search, but don’t rely on its answers 100%, it is pretty good though.',\n",
       "  'section': 'General course-related questions',\n",
       "  'question': 'Course - Can I get support if I take the course in the self-paced mode?',\n",
       "  'course': 'data-engineering-zoomcamp'}]"
      ]
     },
     "execution_count": 68,
     "metadata": {},
     "output_type": "execute_result"
    }
   ],
   "source": [
    "results"
   ]
  },
  {
   "cell_type": "code",
   "execution_count": null,
   "id": "1a8199ba-fe6d-4609-9d4c-0398d80a6980",
   "metadata": {},
   "outputs": [],
   "source": [
    "from openai import OpenAI\n",
    "client = OpenAI()"
   ]
  },
  {
   "cell_type": "code",
   "execution_count": 70,
   "id": "7ed5266c-7295-4fd5-834a-d1898a7f5b0a",
   "metadata": {},
   "outputs": [],
   "source": [
    "response = client.chat.completions.create(\n",
    "    model = 'gpt-4o',\n",
    "    messages = [{\n",
    "        'role': 'user', \"content\": query\n",
    "    }]\n",
    ")"
   ]
  },
  {
   "cell_type": "code",
   "execution_count": 71,
   "id": "c76e449d-60ca-4404-8065-aeaef28b1c33",
   "metadata": {},
   "outputs": [
    {
     "data": {
      "text/plain": [
       "\"It depends on the specific course and the policies of the institution offering it. Many educational institutions have add/drop periods during which you can still enroll in a course even after it has started, but this period is usually limited to the first few days or weeks of the term.\\n\\nHere are some steps you can take to find out if you can still enroll:\\n\\n1. **Check the Course Website:** Look for information about enrollment deadlines and policies related to late registration.\\n   \\n2. **Contact the Instructor:** Sometimes, instructors have the discretion to allow additional students to enroll after the official start date. Send an email or stop by during office hours to discuss your situation.\\n\\n3. **Visit the Registrar's Office:** They can provide the official enrollment deadlines and may offer options for late registration.\\n\\n4. **Talk to an Academic Advisor:** Advisors often have insight into the flexibility of registration policies and can guide you through the process.\\n\\n5. **Online or Continuing Education Programs:** Sometimes online or continuing education programs have more flexible enrollment options.\\n\\nAct quickly, as the longer you wait, the more you might miss out on important course material.\""
      ]
     },
     "execution_count": 71,
     "metadata": {},
     "output_type": "execute_result"
    }
   ],
   "source": [
    "response.choices[0].message.content"
   ]
  },
  {
   "cell_type": "code",
   "execution_count": 72,
   "id": "899c57eb-dcb2-4c21-981d-490fee223917",
   "metadata": {},
   "outputs": [],
   "source": [
    "prompt_template = \"\"\"\n",
    "You are a teaching assistant. Answer the QUESTION based on the CONTEXT. \n",
    "Use only the facts from the CONTEXT when answering. If the answer is not in the context, output NONE. \\n \n",
    "QUESTION: {question}\n",
    "CONTEXT: {context}\n",
    "\n",
    "\"\"\""
   ]
  },
  {
   "cell_type": "code",
   "execution_count": 73,
   "id": "c19a0772-a652-420d-ab2e-fc5d6f892251",
   "metadata": {},
   "outputs": [],
   "source": [
    "context = \"\"\n",
    "for doc in results:\n",
    "    context = context + f\"section: {doc['section']} \\n question: {doc['question']} \\n answer: {doc['text']}\\n \\n\""
   ]
  },
  {
   "cell_type": "code",
   "execution_count": 74,
   "id": "a1f48a06-4c7e-4e69-a16e-a0607bb58a84",
   "metadata": {},
   "outputs": [
    {
     "data": {
      "text/plain": [
       "\"section: General course-related questions \\n question: Course - Can I still join the course after the start date? \\n answer: Yes, even if you don't register, you're still eligible to submit the homeworks.\\nBe aware, however, that there will be deadlines for turning in the final projects. So don't leave everything for the last minute.\\n \\nsection: General course-related questions \\n question: Course - Can I follow the course after it finishes? \\n answer: Yes, we will keep all the materials after the course finishes, so you can follow the course at your own pace after it finishes.\\nYou can also continue looking at the homeworks and continue preparing for the next cohort. I guess you can also start working on your final capstone project.\\n \\nsection: General course-related questions \\n question: Course - When will the course start? \\n answer: The purpose of this document is to capture frequently asked technical questions\\nThe exact day and hour of the course will be 15th Jan 2024 at 17h00. The course will start with the first  “Office Hours'' live.1\\nSubscribe to course public Google Calendar (it works from Desktop only).\\nRegister before the course starts using this link.\\nJoin the course Telegram channel with announcements.\\nDon’t forget to register in DataTalks.Club's Slack and join the channel.\\n \\nsection: General course-related questions \\n question: Course - What can I do before the course starts? \\n answer: You can start by installing and setting up all the dependencies and requirements:\\nGoogle cloud account\\nGoogle Cloud SDK\\nPython 3 (installed with Anaconda)\\nTerraform\\nGit\\nLook over the prerequisites and syllabus to see if you are comfortable with these subjects.\\n \\nsection: General course-related questions \\n question: Course - Can I get support if I take the course in the self-paced mode? \\n answer: Yes, the slack channel remains open and you can ask questions there. But always sDocker containers exit code w search the channel first and second, check the FAQ (this document), most likely all your questions are already answered here.\\nYou can also tag the bot @ZoomcampQABot to help you conduct the search, but don’t rely on its answers 100%, it is pretty good though.\\n \\n\""
      ]
     },
     "execution_count": 74,
     "metadata": {},
     "output_type": "execute_result"
    }
   ],
   "source": [
    "context"
   ]
  },
  {
   "cell_type": "code",
   "execution_count": 75,
   "id": "ed4a04e0-7ea8-4e8b-b7aa-b4c61398de43",
   "metadata": {},
   "outputs": [],
   "source": [
    "prompt = prompt_template.format(question=query,context=context).strip()"
   ]
  },
  {
   "cell_type": "code",
   "execution_count": 76,
   "id": "aadb6c5c-a146-4f2e-a60b-dd118eb4e192",
   "metadata": {},
   "outputs": [
    {
     "data": {
      "text/plain": [
       "\"You are a teaching assistant. Answer the QUESTION based on the CONTEXT. \\nUse only the facts from the CONTEXT when answering. If the answer is not in the context, output NONE. \\n \\nQUESTION: the course has already started, can i still enroll?\\nCONTEXT: section: General course-related questions \\n question: Course - Can I still join the course after the start date? \\n answer: Yes, even if you don't register, you're still eligible to submit the homeworks.\\nBe aware, however, that there will be deadlines for turning in the final projects. So don't leave everything for the last minute.\\n \\nsection: General course-related questions \\n question: Course - Can I follow the course after it finishes? \\n answer: Yes, we will keep all the materials after the course finishes, so you can follow the course at your own pace after it finishes.\\nYou can also continue looking at the homeworks and continue preparing for the next cohort. I guess you can also start working on your final capstone project.\\n \\nsection: General course-related questions \\n question: Course - When will the course start? \\n answer: The purpose of this document is to capture frequently asked technical questions\\nThe exact day and hour of the course will be 15th Jan 2024 at 17h00. The course will start with the first  “Office Hours'' live.1\\nSubscribe to course public Google Calendar (it works from Desktop only).\\nRegister before the course starts using this link.\\nJoin the course Telegram channel with announcements.\\nDon’t forget to register in DataTalks.Club's Slack and join the channel.\\n \\nsection: General course-related questions \\n question: Course - What can I do before the course starts? \\n answer: You can start by installing and setting up all the dependencies and requirements:\\nGoogle cloud account\\nGoogle Cloud SDK\\nPython 3 (installed with Anaconda)\\nTerraform\\nGit\\nLook over the prerequisites and syllabus to see if you are comfortable with these subjects.\\n \\nsection: General course-related questions \\n question: Course - Can I get support if I take the course in the self-paced mode? \\n answer: Yes, the slack channel remains open and you can ask questions there. But always sDocker containers exit code w search the channel first and second, check the FAQ (this document), most likely all your questions are already answered here.\\nYou can also tag the bot @ZoomcampQABot to help you conduct the search, but don’t rely on its answers 100%, it is pretty good though.\""
      ]
     },
     "execution_count": 76,
     "metadata": {},
     "output_type": "execute_result"
    }
   ],
   "source": [
    "prompt"
   ]
  },
  {
   "cell_type": "code",
   "execution_count": 79,
   "id": "d5e764dc-2e9c-4a5b-861e-9734f1e21743",
   "metadata": {},
   "outputs": [],
   "source": [
    "raging = client.chat.completions.create(\n",
    "    model = 'gpt-4o',\n",
    "    messages = [{\n",
    "        'role': 'user', \"content\": prompt\n",
    "    }]\n",
    ")"
   ]
  },
  {
   "cell_type": "code",
   "execution_count": 80,
   "id": "d130ec66-37cc-4a17-92cf-6b38a3416d25",
   "metadata": {},
   "outputs": [
    {
     "data": {
      "text/plain": [
       "\"Yes, even if you don't register, you're still eligible to submit the homeworks. Be aware, however, that there will be deadlines for turning in the final projects. So don't leave everything for the last minute.\""
      ]
     },
     "execution_count": 80,
     "metadata": {},
     "output_type": "execute_result"
    }
   ],
   "source": [
    "raging.choices[0].message.content"
   ]
  },
  {
   "cell_type": "code",
   "execution_count": 83,
   "id": "3b3b2639-4883-4f9d-b509-0e1b730ab0fd",
   "metadata": {},
   "outputs": [],
   "source": [
    "def search(user_query):\n",
    "    boost = {\"question\": 3.0, \"section\": 0.5}\n",
    "    results = index.search(\n",
    "        query=user_query,\n",
    "        filter_dict={'course':'data-engineering-zoomcamp'},\n",
    "        boost_dict=boost,\n",
    "        num_results=5\n",
    "    ) \n",
    "    return results"
   ]
  },
  {
   "cell_type": "code",
   "execution_count": 85,
   "id": "373ab81f-9e4d-4654-846b-cc8055eec93b",
   "metadata": {},
   "outputs": [],
   "source": [
    "results = search('how do i run kafka?')"
   ]
  },
  {
   "cell_type": "code",
   "execution_count": 86,
   "id": "a24764c4-0585-47cb-89d7-a4fdf8852c61",
   "metadata": {},
   "outputs": [],
   "source": [
    "def prompt_builder(user_query, search_results):\n",
    "    prompt_template = \"\"\"\n",
    "    You are a teaching assistant. Answer the QUESTION based on the CONTEXT. \n",
    "    Use only the facts from the CONTEXT when answering. If the answer is not in the context, output NONE. \\n \n",
    "    QUESTION: {question}\n",
    "    CONTEXT: {context}\n",
    "    \n",
    "    \"\"\"\n",
    "    context = \"\"\n",
    "    for doc in results:\n",
    "        context = context + f\"section: {doc['section']} \\n question: {doc['question']} \\n answer: {doc['text']}\\n \\n\"\n",
    "    prompt = prompt_template.format(question=query,context=context).strip()   \n",
    "    return prompt"
   ]
  },
  {
   "cell_type": "code",
   "execution_count": 90,
   "id": "23dcb864-5d0d-4af0-a9c9-acd826e4e690",
   "metadata": {},
   "outputs": [],
   "source": [
    "final_prompt = prompt_builder(\"how do i run kafka?\", results)"
   ]
  },
  {
   "cell_type": "code",
   "execution_count": 93,
   "id": "39999785-caf1-4be0-a47a-8f925afa624b",
   "metadata": {},
   "outputs": [],
   "source": [
    "def llm(prompt): \n",
    "    response = client.chat.completions.create(\n",
    "    model = 'gpt-4o',\n",
    "    messages = [{\n",
    "        'role': 'user', \"content\": prompt\n",
    "    }]\n",
    "    )\n",
    "    return response.choices[0].message.content"
   ]
  },
  {
   "cell_type": "code",
   "execution_count": 94,
   "id": "4a13db12-0fc6-4909-896e-c3fd5d3e6b1f",
   "metadata": {},
   "outputs": [
    {
     "data": {
      "text/plain": [
       "'NONE'"
      ]
     },
     "execution_count": 94,
     "metadata": {},
     "output_type": "execute_result"
    }
   ],
   "source": [
    "llm(final_prompt)"
   ]
  },
  {
   "cell_type": "code",
   "execution_count": null,
   "id": "d3eaef39-cf9c-41be-b151-95107e47eec1",
   "metadata": {},
   "outputs": [],
   "source": []
  }
 ],
 "metadata": {
  "kernelspec": {
   "display_name": "Python 3 (ipykernel)",
   "language": "python",
   "name": "python3"
  },
  "language_info": {
   "codemirror_mode": {
    "name": "ipython",
    "version": 3
   },
   "file_extension": ".py",
   "mimetype": "text/x-python",
   "name": "python",
   "nbconvert_exporter": "python",
   "pygments_lexer": "ipython3",
   "version": "3.10.13"
  }
 },
 "nbformat": 4,
 "nbformat_minor": 5
}

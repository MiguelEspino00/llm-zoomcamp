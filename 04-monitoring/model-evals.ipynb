{
 "cells": [
  {
   "cell_type": "code",
   "execution_count": 1,
   "id": "0fe291c8-295f-4f41-adaa-ae914580c479",
   "metadata": {},
   "outputs": [],
   "source": [
    "import requests \n",
    "\n",
    "base_url = 'https://github.com/DataTalksClub/llm-zoomcamp/blob/main'\n",
    "relative_url = '03-vector-search/eval/documents-with-ids.json'\n",
    "docs_url = f'{base_url}/{relative_url}?raw=1'\n",
    "docs_response = requests.get(docs_url)\n",
    "documents = docs_response.json()"
   ]
  },
  {
   "cell_type": "code",
   "execution_count": 2,
   "id": "d458f686-da23-4063-a283-9b5587bd6850",
   "metadata": {},
   "outputs": [],
   "source": [
    "import pandas as pd\n",
    "\n",
    "base_url = 'https://github.com/DataTalksClub/llm-zoomcamp/blob/main'\n",
    "relative_url = '03-vector-search/eval/ground-truth-data.csv'\n",
    "ground_truth_url = f'{base_url}/{relative_url}?raw=1'\n",
    "\n",
    "df_ground_truth = pd.read_csv(ground_truth_url)\n",
    "df_ground_truth = df_ground_truth[df_ground_truth.course == 'machine-learning-zoomcamp']\n",
    "ground_truth = df_ground_truth.to_dict(orient='records')"
   ]
  },
  {
   "cell_type": "code",
   "execution_count": 3,
   "id": "201d2be9-4b62-4dad-bccb-61f76c17c670",
   "metadata": {},
   "outputs": [
    {
     "data": {
      "text/plain": [
       "'Everything is recorded, so you won’t miss anything. You will be able to ask your questions for office hours in advance and we will cover them during the live stream. Also, you can always ask questions in Slack.'"
      ]
     },
     "execution_count": 3,
     "metadata": {},
     "output_type": "execute_result"
    }
   ],
   "source": [
    "doc_idx = {d['id']: d for d in documents}\n",
    "doc_idx['5170565b']['text']"
   ]
  },
  {
   "cell_type": "markdown",
   "id": "30653c88-f6a2-4387-a974-fb4fbf4ec133",
   "metadata": {},
   "source": [
    "## Let's index the data to embed it\n"
   ]
  },
  {
   "cell_type": "code",
   "execution_count": 5,
   "id": "d73d33fb-f758-4c21-a3ed-812dee48c06e",
   "metadata": {},
   "outputs": [
    {
     "name": "stderr",
     "output_type": "stream",
     "text": [
      "/usr/local/python/3.12.1/lib/python3.12/site-packages/sentence_transformers/cross_encoder/CrossEncoder.py:11: TqdmExperimentalWarning: Using `tqdm.autonotebook.tqdm` in notebook mode. Use `tqdm.tqdm` instead to force console mode (e.g. in jupyter console)\n",
      "  from tqdm.autonotebook import tqdm, trange\n",
      "/usr/local/python/3.12.1/lib/python3.12/site-packages/transformers/tokenization_utils_base.py:1601: FutureWarning: `clean_up_tokenization_spaces` was not set. It will be set to `True` by default. This behavior will be depracted in transformers v4.45, and will be then set to `False` by default. For more details check this issue: https://github.com/huggingface/transformers/issues/31884\n",
      "  warnings.warn(\n"
     ]
    }
   ],
   "source": [
    "from sentence_transformers import SentenceTransformer\n",
    "\n",
    "model_name = 'multi-qa-MiniLM-L6-cos-v1'\n",
    "model = SentenceTransformer(model_name)"
   ]
  },
  {
   "cell_type": "code",
   "execution_count": 6,
   "id": "ac86cc92-ab6a-4f37-9263-2bbeba5a16d6",
   "metadata": {},
   "outputs": [
    {
     "data": {
      "text/plain": [
       "ObjectApiResponse({'acknowledged': True, 'shards_acknowledged': True, 'index': 'course-questions'})"
      ]
     },
     "execution_count": 6,
     "metadata": {},
     "output_type": "execute_result"
    }
   ],
   "source": [
    "from elasticsearch import Elasticsearch\n",
    "\n",
    "es_client = Elasticsearch('http://localhost:9200') \n",
    "\n",
    "index_settings = {\n",
    "    \"settings\": {\n",
    "        \"number_of_shards\": 1,\n",
    "        \"number_of_replicas\": 0\n",
    "    },\n",
    "    \"mappings\": {\n",
    "        \"properties\": {\n",
    "            \"text\": {\"type\": \"text\"},\n",
    "            \"section\": {\"type\": \"text\"},\n",
    "            \"question\": {\"type\": \"text\"},\n",
    "            \"course\": {\"type\": \"keyword\"},\n",
    "            \"id\": {\"type\": \"keyword\"},\n",
    "            \"question_text_vector\": {\n",
    "                \"type\": \"dense_vector\",\n",
    "                \"dims\": 384,\n",
    "                \"index\": True,\n",
    "                \"similarity\": \"cosine\"\n",
    "            },\n",
    "        }\n",
    "    }\n",
    "}\n",
    "\n",
    "index_name = \"course-questions\"\n",
    "\n",
    "es_client.indices.delete(index=index_name, ignore_unavailable=True)\n",
    "es_client.indices.create(index=index_name, body=index_settings)"
   ]
  },
  {
   "cell_type": "code",
   "execution_count": 7,
   "id": "5da5c8ff-e685-4925-8163-b8308bd397f1",
   "metadata": {},
   "outputs": [
    {
     "data": {
      "application/vnd.jupyter.widget-view+json": {
       "model_id": "ecd3804e337a4f2c905c4ac5dd5cebe3",
       "version_major": 2,
       "version_minor": 0
      },
      "text/plain": [
       "  0%|          | 0/948 [00:00<?, ?it/s]"
      ]
     },
     "metadata": {},
     "output_type": "display_data"
    }
   ],
   "source": [
    "from tqdm.auto import tqdm\n",
    "\n",
    "for doc in tqdm(documents):\n",
    "    question = doc['question']\n",
    "    text = doc['text']\n",
    "    doc['question_text_vector'] = model.encode(question + ' ' + text)\n",
    "\n",
    "    es_client.index(index=index_name, document=doc)"
   ]
  },
  {
   "cell_type": "code",
   "execution_count": 8,
   "id": "08835817-1a0c-49b3-975a-ffdb968d118c",
   "metadata": {},
   "outputs": [],
   "source": [
    "#Retrieval\n",
    "\n",
    "def elastic_search_knn(field, vector, course):\n",
    "    knn = {\n",
    "        \"field\": field,\n",
    "        \"query_vector\": vector,\n",
    "        \"k\": 5,\n",
    "        \"num_candidates\": 10000,\n",
    "        \"filter\": {\n",
    "            \"term\": {\n",
    "                \"course\": course\n",
    "            }\n",
    "        }\n",
    "    }\n",
    "\n",
    "    search_query = {\n",
    "        \"knn\": knn,\n",
    "        \"_source\": [\"text\", \"section\", \"question\", \"course\", \"id\"]\n",
    "    }\n",
    "\n",
    "    es_results = es_client.search(\n",
    "        index=index_name,\n",
    "        body=search_query\n",
    "    )\n",
    "    \n",
    "    result_docs = []\n",
    "    \n",
    "    for hit in es_results['hits']['hits']:\n",
    "        result_docs.append(hit['_source'])\n",
    "\n",
    "    return result_docs\n",
    "\n",
    "def question_text_vector_knn(q):\n",
    "    question = q['question']\n",
    "    course = q['course']\n",
    "\n",
    "    v_q = model.encode(question)\n",
    "\n",
    "    return elastic_search_knn('question_text_vector', v_q, course)"
   ]
  },
  {
   "cell_type": "code",
   "execution_count": 9,
   "id": "002cbb61-d8b4-4129-8201-9fcb6771c9b6",
   "metadata": {},
   "outputs": [],
   "source": [
    "def build_prompt(query, search_results):\n",
    "    prompt_template = \"\"\"\n",
    "You're a course teaching assistant. Answer the QUESTION based on the CONTEXT from the FAQ database.\n",
    "Use only the facts from the CONTEXT when answering the QUESTION.\n",
    "\n",
    "QUESTION: {question}\n",
    "\n",
    "CONTEXT: \n",
    "{context}\n",
    "\"\"\".strip()\n",
    "\n",
    "    context = \"\"\n",
    "    \n",
    "    for doc in search_results:\n",
    "        context = context + f\"section: {doc['section']}\\nquestion: {doc['question']}\\nanswer: {doc['text']}\\n\\n\"\n",
    "    \n",
    "    prompt = prompt_template.format(question=query, context=context).strip()\n",
    "    return prompt"
   ]
  },
  {
   "cell_type": "code",
   "execution_count": 10,
   "id": "dcd6028c-cd22-45ac-ac98-fc972f26d839",
   "metadata": {},
   "outputs": [],
   "source": [
    "import os \n",
    "os.environ['GOOGLE_APPLICATION_CREDENTIALS'] = \"YOUR SERVICE ACCOUNT\""
   ]
  },
  {
   "cell_type": "code",
   "execution_count": 12,
   "id": "eb93bb55-3fab-47d5-8828-338f0adb6ad4",
   "metadata": {},
   "outputs": [
    {
     "name": "stderr",
     "output_type": "stream",
     "text": [
      "huggingface/tokenizers: The current process just got forked, after parallelism has already been used. Disabling parallelism to avoid deadlocks...\n",
      "To disable this warning, you can either:\n",
      "\t- Avoid using `tokenizers` before the fork if possible\n",
      "\t- Explicitly set the environment variable TOKENIZERS_PARALLELISM=(true | false)\n"
     ]
    },
    {
     "name": "stdout",
     "output_type": "stream",
     "text": [
      "Collecting google-cloud-aiplatform\n",
      "  Downloading google_cloud_aiplatform-1.64.0-py2.py3-none-any.whl.metadata (31 kB)\n",
      "Collecting vertexai\n",
      "  Downloading vertexai-1.64.0-py3-none-any.whl.metadata (10 kB)\n",
      "Collecting google-api-core!=2.0.*,!=2.1.*,!=2.2.*,!=2.3.*,!=2.4.*,!=2.5.*,!=2.6.*,!=2.7.*,<3.0.0dev,>=1.34.1 (from google-api-core[grpc]!=2.0.*,!=2.1.*,!=2.2.*,!=2.3.*,!=2.4.*,!=2.5.*,!=2.6.*,!=2.7.*,<3.0.0dev,>=1.34.1->google-cloud-aiplatform)\n",
      "  Downloading google_api_core-2.19.2-py3-none-any.whl.metadata (2.7 kB)\n",
      "Collecting google-auth<3.0.0dev,>=2.14.1 (from google-cloud-aiplatform)\n",
      "  Downloading google_auth-2.34.0-py2.py3-none-any.whl.metadata (4.7 kB)\n",
      "Collecting proto-plus<2.0.0dev,>=1.22.3 (from google-cloud-aiplatform)\n",
      "  Downloading proto_plus-1.24.0-py3-none-any.whl.metadata (2.2 kB)\n",
      "Collecting protobuf!=4.21.0,!=4.21.1,!=4.21.2,!=4.21.3,!=4.21.4,!=4.21.5,<6.0.0dev,>=3.20.2 (from google-cloud-aiplatform)\n",
      "  Downloading protobuf-5.28.0-cp38-abi3-manylinux2014_x86_64.whl.metadata (592 bytes)\n",
      "Requirement already satisfied: packaging>=14.3 in /home/codespace/.local/lib/python3.12/site-packages (from google-cloud-aiplatform) (24.1)\n",
      "Collecting google-cloud-storage<3.0.0dev,>=1.32.0 (from google-cloud-aiplatform)\n",
      "  Downloading google_cloud_storage-2.18.2-py2.py3-none-any.whl.metadata (9.1 kB)\n",
      "Collecting google-cloud-bigquery!=3.20.0,<4.0.0dev,>=1.15.0 (from google-cloud-aiplatform)\n",
      "  Downloading google_cloud_bigquery-3.25.0-py2.py3-none-any.whl.metadata (8.9 kB)\n",
      "Collecting google-cloud-resource-manager<3.0.0dev,>=1.3.3 (from google-cloud-aiplatform)\n",
      "  Downloading google_cloud_resource_manager-1.12.5-py2.py3-none-any.whl.metadata (5.3 kB)\n",
      "Collecting shapely<3.0.0dev (from google-cloud-aiplatform)\n",
      "  Downloading shapely-2.0.6-cp312-cp312-manylinux_2_17_x86_64.manylinux2014_x86_64.whl.metadata (7.0 kB)\n",
      "Requirement already satisfied: pydantic<3 in /usr/local/python/3.12.1/lib/python3.12/site-packages (from google-cloud-aiplatform) (2.8.2)\n",
      "Collecting docstring-parser<1 (from google-cloud-aiplatform)\n",
      "  Downloading docstring_parser-0.16-py3-none-any.whl.metadata (3.0 kB)\n",
      "\u001b[33mWARNING: google-cloud-aiplatform 1.64.0 does not provide the extra 'all'\u001b[0m\u001b[33m\n",
      "\u001b[0mCollecting googleapis-common-protos<2.0.dev0,>=1.56.2 (from google-api-core!=2.0.*,!=2.1.*,!=2.2.*,!=2.3.*,!=2.4.*,!=2.5.*,!=2.6.*,!=2.7.*,<3.0.0dev,>=1.34.1->google-api-core[grpc]!=2.0.*,!=2.1.*,!=2.2.*,!=2.3.*,!=2.4.*,!=2.5.*,!=2.6.*,!=2.7.*,<3.0.0dev,>=1.34.1->google-cloud-aiplatform)\n",
      "  Downloading googleapis_common_protos-1.65.0-py2.py3-none-any.whl.metadata (1.5 kB)\n",
      "Requirement already satisfied: requests<3.0.0.dev0,>=2.18.0 in /home/codespace/.local/lib/python3.12/site-packages (from google-api-core!=2.0.*,!=2.1.*,!=2.2.*,!=2.3.*,!=2.4.*,!=2.5.*,!=2.6.*,!=2.7.*,<3.0.0dev,>=1.34.1->google-api-core[grpc]!=2.0.*,!=2.1.*,!=2.2.*,!=2.3.*,!=2.4.*,!=2.5.*,!=2.6.*,!=2.7.*,<3.0.0dev,>=1.34.1->google-cloud-aiplatform) (2.32.3)\n",
      "Collecting grpcio<2.0dev,>=1.33.2 (from google-api-core[grpc]!=2.0.*,!=2.1.*,!=2.2.*,!=2.3.*,!=2.4.*,!=2.5.*,!=2.6.*,!=2.7.*,<3.0.0dev,>=1.34.1->google-cloud-aiplatform)\n",
      "  Downloading grpcio-1.66.1-cp312-cp312-manylinux_2_17_x86_64.manylinux2014_x86_64.whl.metadata (3.9 kB)\n",
      "Collecting grpcio-status<2.0.dev0,>=1.33.2 (from google-api-core[grpc]!=2.0.*,!=2.1.*,!=2.2.*,!=2.3.*,!=2.4.*,!=2.5.*,!=2.6.*,!=2.7.*,<3.0.0dev,>=1.34.1->google-cloud-aiplatform)\n",
      "  Downloading grpcio_status-1.66.1-py3-none-any.whl.metadata (1.1 kB)\n",
      "Collecting cachetools<6.0,>=2.0.0 (from google-auth<3.0.0dev,>=2.14.1->google-cloud-aiplatform)\n",
      "  Downloading cachetools-5.5.0-py3-none-any.whl.metadata (5.3 kB)\n",
      "Collecting pyasn1-modules>=0.2.1 (from google-auth<3.0.0dev,>=2.14.1->google-cloud-aiplatform)\n",
      "  Downloading pyasn1_modules-0.4.0-py3-none-any.whl.metadata (3.4 kB)\n",
      "Collecting rsa<5,>=3.1.4 (from google-auth<3.0.0dev,>=2.14.1->google-cloud-aiplatform)\n",
      "  Downloading rsa-4.9-py3-none-any.whl.metadata (4.2 kB)\n",
      "Collecting google-cloud-core<3.0.0dev,>=1.6.0 (from google-cloud-bigquery!=3.20.0,<4.0.0dev,>=1.15.0->google-cloud-aiplatform)\n",
      "  Downloading google_cloud_core-2.4.1-py2.py3-none-any.whl.metadata (2.7 kB)\n",
      "Collecting google-resumable-media<3.0dev,>=0.6.0 (from google-cloud-bigquery!=3.20.0,<4.0.0dev,>=1.15.0->google-cloud-aiplatform)\n",
      "  Downloading google_resumable_media-2.7.2-py2.py3-none-any.whl.metadata (2.2 kB)\n",
      "Requirement already satisfied: python-dateutil<3.0dev,>=2.7.2 in /home/codespace/.local/lib/python3.12/site-packages (from google-cloud-bigquery!=3.20.0,<4.0.0dev,>=1.15.0->google-cloud-aiplatform) (2.9.0.post0)\n",
      "Collecting grpc-google-iam-v1<1.0.0dev,>=0.12.4 (from google-cloud-resource-manager<3.0.0dev,>=1.3.3->google-cloud-aiplatform)\n",
      "  Downloading grpc_google_iam_v1-0.13.1-py2.py3-none-any.whl.metadata (3.3 kB)\n",
      "Collecting google-crc32c<2.0dev,>=1.0 (from google-cloud-storage<3.0.0dev,>=1.32.0->google-cloud-aiplatform)\n",
      "  Downloading google-crc32c-1.5.0.tar.gz (12 kB)\n",
      "  Installing build dependencies ... \u001b[?25ldone\n",
      "\u001b[?25h  Getting requirements to build wheel ... \u001b[?25ldone\n",
      "\u001b[?25h  Preparing metadata (pyproject.toml) ... \u001b[?25ldone\n",
      "\u001b[?25hRequirement already satisfied: annotated-types>=0.4.0 in /usr/local/python/3.12.1/lib/python3.12/site-packages (from pydantic<3->google-cloud-aiplatform) (0.7.0)\n",
      "Requirement already satisfied: pydantic-core==2.20.1 in /usr/local/python/3.12.1/lib/python3.12/site-packages (from pydantic<3->google-cloud-aiplatform) (2.20.1)\n",
      "Requirement already satisfied: typing-extensions>=4.6.1 in /usr/local/python/3.12.1/lib/python3.12/site-packages (from pydantic<3->google-cloud-aiplatform) (4.12.2)\n",
      "Requirement already satisfied: numpy<3,>=1.14 in /home/codespace/.local/lib/python3.12/site-packages (from shapely<3.0.0dev->google-cloud-aiplatform) (2.1.0)\n",
      "Collecting pyasn1<0.7.0,>=0.4.6 (from pyasn1-modules>=0.2.1->google-auth<3.0.0dev,>=2.14.1->google-cloud-aiplatform)\n",
      "  Downloading pyasn1-0.6.0-py2.py3-none-any.whl.metadata (8.3 kB)\n",
      "Requirement already satisfied: six>=1.5 in /home/codespace/.local/lib/python3.12/site-packages (from python-dateutil<3.0dev,>=2.7.2->google-cloud-bigquery!=3.20.0,<4.0.0dev,>=1.15.0->google-cloud-aiplatform) (1.16.0)\n",
      "Requirement already satisfied: charset-normalizer<4,>=2 in /home/codespace/.local/lib/python3.12/site-packages (from requests<3.0.0.dev0,>=2.18.0->google-api-core!=2.0.*,!=2.1.*,!=2.2.*,!=2.3.*,!=2.4.*,!=2.5.*,!=2.6.*,!=2.7.*,<3.0.0dev,>=1.34.1->google-api-core[grpc]!=2.0.*,!=2.1.*,!=2.2.*,!=2.3.*,!=2.4.*,!=2.5.*,!=2.6.*,!=2.7.*,<3.0.0dev,>=1.34.1->google-cloud-aiplatform) (3.3.2)\n",
      "Requirement already satisfied: idna<4,>=2.5 in /home/codespace/.local/lib/python3.12/site-packages (from requests<3.0.0.dev0,>=2.18.0->google-api-core!=2.0.*,!=2.1.*,!=2.2.*,!=2.3.*,!=2.4.*,!=2.5.*,!=2.6.*,!=2.7.*,<3.0.0dev,>=1.34.1->google-api-core[grpc]!=2.0.*,!=2.1.*,!=2.2.*,!=2.3.*,!=2.4.*,!=2.5.*,!=2.6.*,!=2.7.*,<3.0.0dev,>=1.34.1->google-cloud-aiplatform) (3.7)\n",
      "Requirement already satisfied: urllib3<3,>=1.21.1 in /home/codespace/.local/lib/python3.12/site-packages (from requests<3.0.0.dev0,>=2.18.0->google-api-core!=2.0.*,!=2.1.*,!=2.2.*,!=2.3.*,!=2.4.*,!=2.5.*,!=2.6.*,!=2.7.*,<3.0.0dev,>=1.34.1->google-api-core[grpc]!=2.0.*,!=2.1.*,!=2.2.*,!=2.3.*,!=2.4.*,!=2.5.*,!=2.6.*,!=2.7.*,<3.0.0dev,>=1.34.1->google-cloud-aiplatform) (2.2.2)\n",
      "Requirement already satisfied: certifi>=2017.4.17 in /home/codespace/.local/lib/python3.12/site-packages (from requests<3.0.0.dev0,>=2.18.0->google-api-core!=2.0.*,!=2.1.*,!=2.2.*,!=2.3.*,!=2.4.*,!=2.5.*,!=2.6.*,!=2.7.*,<3.0.0dev,>=1.34.1->google-api-core[grpc]!=2.0.*,!=2.1.*,!=2.2.*,!=2.3.*,!=2.4.*,!=2.5.*,!=2.6.*,!=2.7.*,<3.0.0dev,>=1.34.1->google-cloud-aiplatform) (2024.7.4)\n",
      "Downloading google_cloud_aiplatform-1.64.0-py2.py3-none-any.whl (5.2 MB)\n",
      "\u001b[2K   \u001b[38;2;114;156;31m━━━━━━━━━━━━━━━━━━━━━━━━━━━━━━━━━━━━━━━━\u001b[0m \u001b[32m5.2/5.2 MB\u001b[0m \u001b[31m47.0 MB/s\u001b[0m eta \u001b[36m0:00:00\u001b[0m\n",
      "\u001b[?25hDownloading vertexai-1.64.0-py3-none-any.whl (7.3 kB)\n",
      "Downloading docstring_parser-0.16-py3-none-any.whl (36 kB)\n",
      "Downloading google_api_core-2.19.2-py3-none-any.whl (139 kB)\n",
      "Downloading google_auth-2.34.0-py2.py3-none-any.whl (200 kB)\n",
      "Downloading google_cloud_bigquery-3.25.0-py2.py3-none-any.whl (239 kB)\n",
      "Downloading google_cloud_resource_manager-1.12.5-py2.py3-none-any.whl (341 kB)\n",
      "Downloading google_cloud_storage-2.18.2-py2.py3-none-any.whl (130 kB)\n",
      "Downloading proto_plus-1.24.0-py3-none-any.whl (50 kB)\n",
      "Downloading protobuf-5.28.0-cp38-abi3-manylinux2014_x86_64.whl (316 kB)\n",
      "Downloading shapely-2.0.6-cp312-cp312-manylinux_2_17_x86_64.manylinux2014_x86_64.whl (2.5 MB)\n",
      "\u001b[2K   \u001b[38;2;114;156;31m━━━━━━━━━━━━━━━━━━━━━━━━━━━━━━━━━━━━━━━━\u001b[0m \u001b[32m2.5/2.5 MB\u001b[0m \u001b[31m34.0 MB/s\u001b[0m eta \u001b[36m0:00:00\u001b[0m\n",
      "\u001b[?25hDownloading cachetools-5.5.0-py3-none-any.whl (9.5 kB)\n",
      "Downloading google_cloud_core-2.4.1-py2.py3-none-any.whl (29 kB)\n",
      "Downloading google_resumable_media-2.7.2-py2.py3-none-any.whl (81 kB)\n",
      "Downloading googleapis_common_protos-1.65.0-py2.py3-none-any.whl (220 kB)\n",
      "Downloading grpc_google_iam_v1-0.13.1-py2.py3-none-any.whl (24 kB)\n",
      "Downloading grpcio-1.66.1-cp312-cp312-manylinux_2_17_x86_64.manylinux2014_x86_64.whl (5.7 MB)\n",
      "\u001b[2K   \u001b[38;2;114;156;31m━━━━━━━━━━━━━━━━━━━━━━━━━━━━━━━━━━━━━━━━\u001b[0m \u001b[32m5.7/5.7 MB\u001b[0m \u001b[31m56.4 MB/s\u001b[0m eta \u001b[36m0:00:00\u001b[0m\n",
      "\u001b[?25hDownloading grpcio_status-1.66.1-py3-none-any.whl (14 kB)\n",
      "Downloading pyasn1_modules-0.4.0-py3-none-any.whl (181 kB)\n",
      "Downloading rsa-4.9-py3-none-any.whl (34 kB)\n",
      "Downloading pyasn1-0.6.0-py2.py3-none-any.whl (85 kB)\n",
      "Building wheels for collected packages: google-crc32c\n",
      "  Building wheel for google-crc32c (pyproject.toml) ... \u001b[?25ldone\n",
      "\u001b[?25h  Created wheel for google-crc32c: filename=google_crc32c-1.5.0-py3-none-any.whl size=13027 sha256=6e5ca5d0e86d22944a94f114e7fc943c23995ff6970d1b79f9604c64875f5fa7\n",
      "  Stored in directory: /home/codespace/.cache/pip/wheels/40/b9/2e/089df51c5e6f7cda282c650457a1d9a7a55bf6386d8de8bf3d\n",
      "Successfully built google-crc32c\n",
      "Installing collected packages: shapely, pyasn1, protobuf, grpcio, google-crc32c, docstring-parser, cachetools, rsa, pyasn1-modules, proto-plus, googleapis-common-protos, google-resumable-media, grpcio-status, google-auth, grpc-google-iam-v1, google-api-core, google-cloud-core, google-cloud-storage, google-cloud-resource-manager, google-cloud-bigquery, google-cloud-aiplatform, vertexai\n",
      "Successfully installed cachetools-5.5.0 docstring-parser-0.16 google-api-core-2.19.2 google-auth-2.34.0 google-cloud-aiplatform-1.64.0 google-cloud-bigquery-3.25.0 google-cloud-core-2.4.1 google-cloud-resource-manager-1.12.5 google-cloud-storage-2.18.2 google-crc32c-1.5.0 google-resumable-media-2.7.2 googleapis-common-protos-1.65.0 grpc-google-iam-v1-0.13.1 grpcio-1.66.1 grpcio-status-1.66.1 proto-plus-1.24.0 protobuf-5.28.0 pyasn1-0.6.0 pyasn1-modules-0.4.0 rsa-4.9 shapely-2.0.6 vertexai-1.64.0\n"
     ]
    }
   ],
   "source": [
    "!pip install google-cloud-aiplatform vertexai"
   ]
  },
  {
   "cell_type": "code",
   "execution_count": 11,
   "id": "535b6d47-02d5-4631-b166-22cbee77711a",
   "metadata": {},
   "outputs": [],
   "source": [
    "from google.cloud import aiplatform\n",
    "from vertexai.preview.generative_models import GenerativeModel, SafetySetting, HarmCategory, HarmBlockThreshold\n",
    "\n",
    "\n",
    "def initialize_vertex_ai():\n",
    "    aiplatform.init(project=\"YOUR PROJECT\", location=\"REGION\")\n",
    "\n",
    "def flash(prompt):\n",
    "    initialize_vertex_ai()\n",
    "    model = GenerativeModel(\n",
    "        model_name=\"gemini-1.5-flash-001\"\n",
    "    )\n",
    "    generation_config = {\n",
    "    \"max_output_tokens\": 8192,\n",
    "    \"temperature\": 0.1,\n",
    "    \"top_p\": 0.95,\n",
    "    }\n",
    "    safety_settings = {\n",
    "        generative_models.HarmCategory.HARM_CATEGORY_HATE_SPEECH: generative_models.HarmBlockThreshold.BLOCK_ONLY_HIGH,\n",
    "         generative_models.HarmCategory.HARM_CATEGORY_DANGEROUS_CONTENT: generative_models.HarmBlockThreshold.BLOCK_ONLY_HIGH,\n",
    "         generative_models.HarmCategory.HARM_CATEGORY_SEXUALLY_EXPLICIT: generative_models.HarmBlockThreshold.BLOCK_ONLY_HIGH,\n",
    "         generative_models.HarmCategory.HARM_CATEGORY_HARASSMENT: generative_models.HarmBlockThreshold.BLOCK_ONLY_HIGH,\n",
    "    }\n",
    "    responses = model.generate_content(\n",
    "        prompt,\n",
    "        generation_config=generation_config,\n",
    "        safety_settings=safety_settings\n",
    "    )\n",
    "\n",
    "    \n",
    "\n",
    "    response_obj = {\n",
    "        \"response_text\": responses.text,\n",
    "        \"prompt_tokens\": responses.usage_metadata.prompt_token_count,\n",
    "        \"result_tokens\": responses.usage_metadata.candidates_token_count\n",
    "    }\n",
    "    \n",
    "    return response_obj\n",
    "\n",
    "def pro(prompt):\n",
    "    initialize_vertex_ai()\n",
    "    model = GenerativeModel(\n",
    "        model_name=\"gemini-1.5-pro-001\"\n",
    "    )\n",
    "    generation_config = {\n",
    "    \"max_output_tokens\": 8192,\n",
    "    \"temperature\": 0.1,\n",
    "    \"top_p\": 0.95,\n",
    "    }\n",
    "    safety_settings = [\n",
    "    SafetySetting(\n",
    "        category=SafetySetting.HarmCategory.HARM_CATEGORY_HATE_SPEECH,\n",
    "        threshold=SafetySetting.HarmBlockThreshold.BLOCK_ONLY_HIGH\n",
    "    ),\n",
    "    SafetySetting(\n",
    "        category=SafetySetting.HarmCategory.HARM_CATEGORY_DANGEROUS_CONTENT,\n",
    "        threshold=SafetySetting.HarmBlockThreshold.BLOCK_ONLY_HIGH\n",
    "    ),\n",
    "    SafetySetting(\n",
    "        category=SafetySetting.HarmCategory.HARM_CATEGORY_SEXUALLY_EXPLICIT,\n",
    "        threshold=SafetySetting.HarmBlockThreshold.BLOCK_ONLY_HIGH\n",
    "    ),\n",
    "    SafetySetting(\n",
    "        category=SafetySetting.HarmCategory.HARM_CATEGORY_HARASSMENT,\n",
    "        threshold=SafetySetting.HarmBlockThreshold.BLOCK_ONLY_HIGH\n",
    "    )]\n",
    "    responses = model.generate_content(\n",
    "        prompt,\n",
    "        generation_config=generation_config,\n",
    "        safety_settings=safety_settings\n",
    "    )\n",
    "\n",
    "    \n",
    "\n",
    "    response_obj = {\n",
    "        \"response_text\": responses.text,\n",
    "        \"prompt_tokens\": responses.usage_metadata.prompt_token_count,\n",
    "        \"result_tokens\": responses.usage_metadata.candidates_token_count\n",
    "    }\n",
    "    \n",
    "    return response_obj\n",
    "\n"
   ]
  },
  {
   "cell_type": "code",
   "execution_count": 14,
   "id": "9241fa25-c21a-4dfb-9580-db2aea4458a9",
   "metadata": {},
   "outputs": [],
   "source": [
    "def rag_flash(query: dict) -> str:\n",
    "    search_results = question_text_vector_knn(query)\n",
    "    prompt = build_prompt(query['question'], search_results)\n",
    "    answer = flash(prompt)\n",
    "    return answer"
   ]
  },
  {
   "cell_type": "code",
   "execution_count": 12,
   "id": "7011526a-5c63-4a42-a90e-3b4bf4083cab",
   "metadata": {},
   "outputs": [],
   "source": [
    "def rag_pro(query: dict) -> str:\n",
    "    search_results = question_text_vector_knn(query)\n",
    "    prompt = build_prompt(query['question'], search_results)\n",
    "    answer = pro(prompt)\n",
    "    return answer"
   ]
  },
  {
   "cell_type": "code",
   "execution_count": 76,
   "id": "ba0eb129-2844-46aa-93fa-217d7d74a490",
   "metadata": {},
   "outputs": [
    {
     "data": {
      "text/plain": [
       "{'question': 'Are sessions recorded if I miss one?',\n",
       " 'course': 'machine-learning-zoomcamp',\n",
       " 'document': '5170565b'}"
      ]
     },
     "execution_count": 76,
     "metadata": {},
     "output_type": "execute_result"
    }
   ],
   "source": [
    "ground_truth[10]"
   ]
  },
  {
   "cell_type": "code",
   "execution_count": 77,
   "id": "4876affe-c5b0-48c8-9bd7-8303a8804dac",
   "metadata": {},
   "outputs": [
    {
     "data": {
      "text/plain": [
       "{'response_text': 'Yes, all sessions are recorded. You can watch them later if you miss one. \\n',\n",
       " 'prompt_tokens': 396,\n",
       " 'result_tokens': 19}"
      ]
     },
     "execution_count": 77,
     "metadata": {},
     "output_type": "execute_result"
    }
   ],
   "source": [
    "rag(ground_truth[10])"
   ]
  },
  {
   "cell_type": "code",
   "execution_count": 82,
   "id": "15d7884e-e29d-4d7f-93bb-07c34fb5b0ad",
   "metadata": {},
   "outputs": [
    {
     "data": {
      "text/plain": [
       "'Everything is recorded, so you won’t miss anything. You will be able to ask your questions for office hours in advance and we will cover them during the live stream. Also, you can always ask questions in Slack.'"
      ]
     },
     "execution_count": 82,
     "metadata": {},
     "output_type": "execute_result"
    }
   ],
   "source": [
    "doc_idx['5170565b']['text']"
   ]
  },
  {
   "cell_type": "code",
   "execution_count": 13,
   "id": "f0b15d34-48f4-4d68-a79d-ab712f517cf3",
   "metadata": {},
   "outputs": [],
   "source": [
    "answers = {}"
   ]
  },
  {
   "cell_type": "code",
   "execution_count": 14,
   "id": "b47ebfa0-f66d-4231-bba0-999ac4d33677",
   "metadata": {},
   "outputs": [
    {
     "data": {
      "application/vnd.jupyter.widget-view+json": {
       "model_id": "302a7f752c3e44698ffe4a1568bc2c45",
       "version_major": 2,
       "version_minor": 0
      },
      "text/plain": [
       "  0%|          | 0/1830 [00:00<?, ?it/s]"
      ]
     },
     "metadata": {},
     "output_type": "display_data"
    }
   ],
   "source": [
    "for i, rec in enumerate(tqdm(ground_truth)):\n",
    "    if i in answers:\n",
    "        continue\n",
    "\n",
    "    answer_llm = rag_pro(rec)\n",
    "    doc_id = rec['document']\n",
    "    original_doc = doc_idx[doc_id]\n",
    "    answer_orig = original_doc['text']\n",
    "\n",
    "    answers[i] = {\n",
    "        'answer_llm': answer_llm['response_text'],\n",
    "        'answer_orig': answer_orig,\n",
    "        'document': doc_id,\n",
    "        'question': rec['question'],\n",
    "        'course': rec['course'],\n",
    "        'prompt_tokens': answer_llm['prompt_tokens'],\n",
    "        'result_tokens': answer_llm['result_tokens']\n",
    "    }"
   ]
  },
  {
   "cell_type": "code",
   "execution_count": 15,
   "id": "51a30dd9-ec88-4d94-8258-4aa11572b67a",
   "metadata": {},
   "outputs": [],
   "source": [
    "import pandas as pd"
   ]
  },
  {
   "cell_type": "code",
   "execution_count": 17,
   "id": "5fbf74c1-26d7-4893-a62d-a6bb4c64b15d",
   "metadata": {},
   "outputs": [],
   "source": [
    "results_pro = [None] * len(ground_truth)\n",
    "\n",
    "for i, val in answers.items():\n",
    "    results_pro[i] = val.copy()\n",
    "    results_pro[i].update(ground_truth[i])"
   ]
  },
  {
   "cell_type": "code",
   "execution_count": 87,
   "id": "3d0f33b1-85d5-4557-b8b4-55a538d61f10",
   "metadata": {},
   "outputs": [],
   "source": [
    "results_flash = [None] * len(ground_truth)\n",
    "\n",
    "for i, val in answers.items():\n",
    "    results_flash[i] = val.copy()\n",
    "    results_flash[i].update(ground_truth[i])"
   ]
  },
  {
   "cell_type": "code",
   "execution_count": 18,
   "id": "04e25cd0-dd91-4b1b-aa1a-40a5a23783ee",
   "metadata": {},
   "outputs": [],
   "source": [
    "df_pro = pd.DataFrame(results_pro)"
   ]
  },
  {
   "cell_type": "code",
   "execution_count": 92,
   "id": "8b75408b-4aa5-49eb-9cba-8f0bf7f12eef",
   "metadata": {},
   "outputs": [
    {
     "data": {
      "text/html": [
       "<div>\n",
       "<style scoped>\n",
       "    .dataframe tbody tr th:only-of-type {\n",
       "        vertical-align: middle;\n",
       "    }\n",
       "\n",
       "    .dataframe tbody tr th {\n",
       "        vertical-align: top;\n",
       "    }\n",
       "\n",
       "    .dataframe thead th {\n",
       "        text-align: right;\n",
       "    }\n",
       "</style>\n",
       "<table border=\"1\" class=\"dataframe\">\n",
       "  <thead>\n",
       "    <tr style=\"text-align: right;\">\n",
       "      <th></th>\n",
       "      <th>answer_llm</th>\n",
       "      <th>answer_orig</th>\n",
       "      <th>document</th>\n",
       "      <th>question</th>\n",
       "      <th>course</th>\n",
       "      <th>prompt_tokens</th>\n",
       "      <th>result_tokens</th>\n",
       "    </tr>\n",
       "  </thead>\n",
       "  <tbody>\n",
       "    <tr>\n",
       "      <th>257</th>\n",
       "      <td>The Python libraries needed to generate a hist...</td>\n",
       "      <td>We can use histogram:\\nimport pandas as pd\\nim...</td>\n",
       "      <td>bbc0fca3</td>\n",
       "      <td>Which Python libraries are needed to generate ...</td>\n",
       "      <td>machine-learning-zoomcamp</td>\n",
       "      <td>671</td>\n",
       "      <td>63</td>\n",
       "    </tr>\n",
       "    <tr>\n",
       "      <th>1420</th>\n",
       "      <td>The provided context does not contain informat...</td>\n",
       "      <td>This deployment setup can be tested locally us...</td>\n",
       "      <td>0cfbe2e2</td>\n",
       "      <td>Are there any specific curl commands for testi...</td>\n",
       "      <td>machine-learning-zoomcamp</td>\n",
       "      <td>1071</td>\n",
       "      <td>110</td>\n",
       "    </tr>\n",
       "    <tr>\n",
       "      <th>570</th>\n",
       "      <td>Use the DictVectorizer. It preserves feature n...</td>\n",
       "      <td>These both methods receive the dictionary as a...</td>\n",
       "      <td>690d97f1</td>\n",
       "      <td>What should I use if I need to preserve featur...</td>\n",
       "      <td>machine-learning-zoomcamp</td>\n",
       "      <td>661</td>\n",
       "      <td>47</td>\n",
       "    </tr>\n",
       "    <tr>\n",
       "      <th>274</th>\n",
       "      <td>You needed to apply `fillna(0)` to all dataset...</td>\n",
       "      <td>I was using for loops to apply rmse to list of...</td>\n",
       "      <td>88e9600a</td>\n",
       "      <td>Why did you need to apply fillna(0) on all dat...</td>\n",
       "      <td>machine-learning-zoomcamp</td>\n",
       "      <td>705</td>\n",
       "      <td>90</td>\n",
       "    </tr>\n",
       "    <tr>\n",
       "      <th>1728</th>\n",
       "      <td>The FAQ database does not contain information ...</td>\n",
       "      <td>Problem happens when contacting the server wai...</td>\n",
       "      <td>cc60f7bc</td>\n",
       "      <td>What can I do if I encounter an error due to i...</td>\n",
       "      <td>machine-learning-zoomcamp</td>\n",
       "      <td>437</td>\n",
       "      <td>30</td>\n",
       "    </tr>\n",
       "    <tr>\n",
       "      <th>1360</th>\n",
       "      <td>To address issues caused by the arm architectu...</td>\n",
       "      <td>Problem:\\nWhile trying to build docker image i...</td>\n",
       "      <td>35dbd6e2</td>\n",
       "      <td>How can I address issues caused by the arm arc...</td>\n",
       "      <td>machine-learning-zoomcamp</td>\n",
       "      <td>1689</td>\n",
       "      <td>50</td>\n",
       "    </tr>\n",
       "    <tr>\n",
       "      <th>825</th>\n",
       "      <td>The command `docker image ls --format \"{{.Size...</td>\n",
       "      <td>Using the command docker images or docker imag...</td>\n",
       "      <td>514e27bb</td>\n",
       "      <td>Which command allows filtering the information...</td>\n",
       "      <td>machine-learning-zoomcamp</td>\n",
       "      <td>1176</td>\n",
       "      <td>39</td>\n",
       "    </tr>\n",
       "    <tr>\n",
       "      <th>1408</th>\n",
       "      <td>The FAQ database does not contain information ...</td>\n",
       "      <td>Add the next lines to vim /etc/docker/daemon.j...</td>\n",
       "      <td>1078aeb7</td>\n",
       "      <td>How can I resolve Docker name resolution issues?</td>\n",
       "      <td>machine-learning-zoomcamp</td>\n",
       "      <td>462</td>\n",
       "      <td>18</td>\n",
       "    </tr>\n",
       "    <tr>\n",
       "      <th>528</th>\n",
       "      <td>In HW3 Q3, you should use the `ocean_proximity...</td>\n",
       "      <td>Question: Could you please help me with HW3 Q3...</td>\n",
       "      <td>fbda1f40</td>\n",
       "      <td>In HW3 Q3, what should we use alongside the bi...</td>\n",
       "      <td>machine-learning-zoomcamp</td>\n",
       "      <td>591</td>\n",
       "      <td>32</td>\n",
       "    </tr>\n",
       "    <tr>\n",
       "      <th>1531</th>\n",
       "      <td>The migration instructions for AWS CLI v2 can ...</td>\n",
       "      <td>Make sure you are on AWS CLI v2 (check with aw...</td>\n",
       "      <td>00882c83</td>\n",
       "      <td>Where can I find migration instructions for AW...</td>\n",
       "      <td>machine-learning-zoomcamp</td>\n",
       "      <td>709</td>\n",
       "      <td>41</td>\n",
       "    </tr>\n",
       "  </tbody>\n",
       "</table>\n",
       "</div>"
      ],
      "text/plain": [
       "                                             answer_llm  \\\n",
       "257   The Python libraries needed to generate a hist...   \n",
       "1420  The provided context does not contain informat...   \n",
       "570   Use the DictVectorizer. It preserves feature n...   \n",
       "274   You needed to apply `fillna(0)` to all dataset...   \n",
       "1728  The FAQ database does not contain information ...   \n",
       "1360  To address issues caused by the arm architectu...   \n",
       "825   The command `docker image ls --format \"{{.Size...   \n",
       "1408  The FAQ database does not contain information ...   \n",
       "528   In HW3 Q3, you should use the `ocean_proximity...   \n",
       "1531  The migration instructions for AWS CLI v2 can ...   \n",
       "\n",
       "                                            answer_orig  document  \\\n",
       "257   We can use histogram:\\nimport pandas as pd\\nim...  bbc0fca3   \n",
       "1420  This deployment setup can be tested locally us...  0cfbe2e2   \n",
       "570   These both methods receive the dictionary as a...  690d97f1   \n",
       "274   I was using for loops to apply rmse to list of...  88e9600a   \n",
       "1728  Problem happens when contacting the server wai...  cc60f7bc   \n",
       "1360  Problem:\\nWhile trying to build docker image i...  35dbd6e2   \n",
       "825   Using the command docker images or docker imag...  514e27bb   \n",
       "1408  Add the next lines to vim /etc/docker/daemon.j...  1078aeb7   \n",
       "528   Question: Could you please help me with HW3 Q3...  fbda1f40   \n",
       "1531  Make sure you are on AWS CLI v2 (check with aw...  00882c83   \n",
       "\n",
       "                                               question  \\\n",
       "257   Which Python libraries are needed to generate ...   \n",
       "1420  Are there any specific curl commands for testi...   \n",
       "570   What should I use if I need to preserve featur...   \n",
       "274   Why did you need to apply fillna(0) on all dat...   \n",
       "1728  What can I do if I encounter an error due to i...   \n",
       "1360  How can I address issues caused by the arm arc...   \n",
       "825   Which command allows filtering the information...   \n",
       "1408   How can I resolve Docker name resolution issues?   \n",
       "528   In HW3 Q3, what should we use alongside the bi...   \n",
       "1531  Where can I find migration instructions for AW...   \n",
       "\n",
       "                         course  prompt_tokens  result_tokens  \n",
       "257   machine-learning-zoomcamp            671             63  \n",
       "1420  machine-learning-zoomcamp           1071            110  \n",
       "570   machine-learning-zoomcamp            661             47  \n",
       "274   machine-learning-zoomcamp            705             90  \n",
       "1728  machine-learning-zoomcamp            437             30  \n",
       "1360  machine-learning-zoomcamp           1689             50  \n",
       "825   machine-learning-zoomcamp           1176             39  \n",
       "1408  machine-learning-zoomcamp            462             18  \n",
       "528   machine-learning-zoomcamp            591             32  \n",
       "1531  machine-learning-zoomcamp            709             41  "
      ]
     },
     "execution_count": 92,
     "metadata": {},
     "output_type": "execute_result"
    }
   ],
   "source": [
    "df_flash.sample(n=10)"
   ]
  },
  {
   "cell_type": "markdown",
   "id": "89a18ae4-4a9a-4722-b5a3-726551860d2a",
   "metadata": {},
   "source": [
    "### Processing cost for the 1.8k requests of Gemini Flash 1.5"
   ]
  },
  {
   "cell_type": "code",
   "execution_count": 101,
   "id": "e5f1b304-c228-45ad-8958-3b608801a58e",
   "metadata": {},
   "outputs": [
    {
     "name": "stdout",
     "output_type": "stream",
     "text": [
      "The final cost for the process is: 0.1318359 USD\n"
     ]
    }
   ],
   "source": [
    "cost_per_1000_prompt_characters = 0.00001875\n",
    "cost_per_1000_result_characters = 0.000075 \n",
    "tokens_to_characters = 4\n",
    "\n",
    "df_flash['prompt_caract'] = df_flash['prompt_tokens'] * tokens_to_characters\n",
    "df_flash['result_caract'] = df_flash['result_tokens'] * tokens_to_characters\n",
    "\n",
    "df_flash['prompt_cost'] = (df_flash['prompt_caract'] / 1000) * cost_per_1000_prompt_characters\n",
    "df_flash['result_cost'] = (df_flash['result_caract'] / 1000) * cost_per_1000_result_characters\n",
    "\n",
    "df_flash['total_cost'] = df_flash['prompt_cost'] + df_flash['result_cost']\n",
    "\n",
    "\n",
    "total_cost = df_flash['total_cost'].sum()\n",
    "\n",
    "\n",
    "print(f\"The final cost for the process is: {total_cost} USD\")\n"
   ]
  },
  {
   "cell_type": "markdown",
   "id": "a55a20d6-91bc-4007-8ee1-375b5d67fe7d",
   "metadata": {},
   "source": [
    "### Processing cost for the 1.8k requests of Gemini Pro 1.5"
   ]
  },
  {
   "cell_type": "code",
   "execution_count": 47,
   "id": "e82e7e71-58f8-4542-8739-3878007f64c0",
   "metadata": {},
   "outputs": [
    {
     "name": "stdout",
     "output_type": "stream",
     "text": [
      "The final cost for the process for gemini pro is: 8.492115 USD\n"
     ]
    }
   ],
   "source": [
    "cost_per_1000_prompt_characters = 0.00125 \n",
    "cost_per_1000_result_characters = 0.00375  \n",
    "tokens_to_characters = 4\n",
    "\n",
    "df_pro['prompt_caract'] = df_pro['prompt_tokens'] * tokens_to_characters\n",
    "df_pro['result_caract'] = df_pro['result_tokens'] * tokens_to_characters\n",
    "\n",
    "df_pro['prompt_cost'] = (df_pro['prompt_caract'] / 1000) * cost_per_1000_prompt_characters\n",
    "df_pro['result_cost'] = (df_pro['result_caract'] / 1000) * cost_per_1000_result_characters\n",
    "\n",
    "df_pro['total_cost'] = df_pro['prompt_cost'] + df_pro['result_cost']\n",
    "\n",
    "\n",
    "total_cost = df_pro['total_cost'].sum()\n",
    "\n",
    "\n",
    "print(f\"The final cost for the process for gemini pro is: {total_cost} USD\")"
   ]
  },
  {
   "cell_type": "code",
   "execution_count": 19,
   "id": "fb48acf4-ed62-429c-8e82-d9b6534d0c7e",
   "metadata": {},
   "outputs": [],
   "source": [
    "df_pro.to_csv('data/results-pro.csv', index=False)"
   ]
  },
  {
   "cell_type": "markdown",
   "id": "76675e64-9987-4d5f-b05b-c2f026134f2a",
   "metadata": {},
   "source": [
    "## Evaluate cosine similarity"
   ]
  },
  {
   "cell_type": "code",
   "execution_count": 104,
   "id": "1140f72a-6f87-4aa0-a45e-33bd6e55eed2",
   "metadata": {},
   "outputs": [],
   "source": [
    "results_flash = df_flash.to_dict(orient='records')"
   ]
  },
  {
   "cell_type": "code",
   "execution_count": 22,
   "id": "7e3ad9af-8072-4063-933e-49d4ca2c9611",
   "metadata": {},
   "outputs": [],
   "source": [
    "results_pro = df_pro.to_dict(orient=\"records\")"
   ]
  },
  {
   "cell_type": "code",
   "execution_count": 23,
   "id": "052622ea-24a1-4120-b79b-c6cb9ef06c27",
   "metadata": {},
   "outputs": [],
   "source": [
    "def compute_similarity(record):\n",
    "    answer_orig = record['answer_orig']\n",
    "    answer_llm = record['answer_llm']\n",
    "    \n",
    "    v_llm = model.encode(answer_llm)\n",
    "    v_orig = model.encode(answer_orig)\n",
    "    \n",
    "    return v_llm.dot(v_orig)"
   ]
  },
  {
   "cell_type": "code",
   "execution_count": 41,
   "id": "7e841c2a-927a-48cb-aef4-a4a66f87b283",
   "metadata": {},
   "outputs": [
    {
     "ename": "NameError",
     "evalue": "name 'results_flash' is not defined",
     "output_type": "error",
     "traceback": [
      "\u001b[0;31m---------------------------------------------------------------------------\u001b[0m",
      "\u001b[0;31mNameError\u001b[0m                                 Traceback (most recent call last)",
      "Cell \u001b[0;32mIn[41], line 3\u001b[0m\n\u001b[1;32m      1\u001b[0m similarity \u001b[38;5;241m=\u001b[39m []\n\u001b[0;32m----> 3\u001b[0m \u001b[38;5;28;01mfor\u001b[39;00m record \u001b[38;5;129;01min\u001b[39;00m tqdm(\u001b[43mresults_flash\u001b[49m):\n\u001b[1;32m      4\u001b[0m     sim \u001b[38;5;241m=\u001b[39m compute_similarity(record)\n\u001b[1;32m      5\u001b[0m     similarity\u001b[38;5;241m.\u001b[39mappend(sim)\n",
      "\u001b[0;31mNameError\u001b[0m: name 'results_flash' is not defined"
     ]
    }
   ],
   "source": [
    "similarity = []\n",
    "\n",
    "for record in tqdm(results_flash):\n",
    "    sim = compute_similarity(record)\n",
    "    similarity.append(sim)"
   ]
  },
  {
   "cell_type": "code",
   "execution_count": 39,
   "id": "f1e4e1eb-d119-4b93-9472-e8e0c72f8096",
   "metadata": {},
   "outputs": [
    {
     "data": {
      "application/vnd.jupyter.widget-view+json": {
       "model_id": "165ce9cc1d68416e8bc2dff496cf064f",
       "version_major": 2,
       "version_minor": 0
      },
      "text/plain": [
       "  0%|          | 0/1830 [00:00<?, ?it/s]"
      ]
     },
     "metadata": {},
     "output_type": "display_data"
    }
   ],
   "source": [
    "similarity_2 = []\n",
    "\n",
    "for record in tqdm(results_pro):\n",
    "    sim = compute_similarity(record)\n",
    "    similarity_2.append(sim)"
   ]
  },
  {
   "cell_type": "code",
   "execution_count": 40,
   "id": "0842d10f-c4bf-4ad0-930a-9f2a04ec4b48",
   "metadata": {},
   "outputs": [
    {
     "data": {
      "text/plain": [
       "count    1830.000000\n",
       "mean        0.623726\n",
       "std         0.220312\n",
       "min        -0.258050\n",
       "25%         0.519167\n",
       "50%         0.671628\n",
       "75%         0.781661\n",
       "max         0.993330\n",
       "Name: cosine, dtype: float64"
      ]
     },
     "execution_count": 40,
     "metadata": {},
     "output_type": "execute_result"
    }
   ],
   "source": [
    "df_pro['cosine'] = similarity_2\n",
    "df_pro['cosine'].describe()"
   ]
  },
  {
   "cell_type": "code",
   "execution_count": 36,
   "id": "c78f634d-30ab-4697-9e82-21c21a14de24",
   "metadata": {},
   "outputs": [
    {
     "data": {
      "text/plain": [
       "count    1830.000000\n",
       "mean        0.623726\n",
       "std         0.220312\n",
       "min        -0.258050\n",
       "25%         0.519167\n",
       "50%         0.671628\n",
       "75%         0.781661\n",
       "max         0.993330\n",
       "Name: cosine, dtype: float64"
      ]
     },
     "execution_count": 36,
     "metadata": {},
     "output_type": "execute_result"
    }
   ],
   "source": [
    "df_flash['cosine'] = similarity\n",
    "df_flash['cosine'].describe()"
   ]
  },
  {
   "cell_type": "code",
   "execution_count": 27,
   "id": "233493a2-efe5-4f07-9abf-1f2e474d623d",
   "metadata": {},
   "outputs": [],
   "source": [
    "import seaborn as sns\n",
    "import matplotlib.pyplot as plt"
   ]
  },
  {
   "cell_type": "code",
   "execution_count": 112,
   "id": "b92c0d8e-dd44-4ae3-a54f-df3fc8cb4f4c",
   "metadata": {},
   "outputs": [
    {
     "name": "stderr",
     "output_type": "stream",
     "text": [
      "/tmp/ipykernel_31388/2462746627.py:1: UserWarning: \n",
      "\n",
      "`distplot` is a deprecated function and will be removed in seaborn v0.14.0.\n",
      "\n",
      "Please adapt your code to use either `displot` (a figure-level function with\n",
      "similar flexibility) or `histplot` (an axes-level function for histograms).\n",
      "\n",
      "For a guide to updating your code to use the new functions, please see\n",
      "https://gist.github.com/mwaskom/de44147ed2974457ad6372750bbe5751\n",
      "\n",
      "  sns.distplot(df_flash['cosine'], label='gemini-flash-1.5')\n"
     ]
    },
    {
     "data": {
      "text/plain": [
       "<matplotlib.legend.Legend at 0x7c5d1e350c40>"
      ]
     },
     "execution_count": 112,
     "metadata": {},
     "output_type": "execute_result"
    },
    {
     "data": {
      "image/png": "[encoded data removed]",
      "text/plain": [
       "<Figure size 640x480 with 1 Axes>"
      ]
     },
     "metadata": {},
     "output_type": "display_data"
    }
   ],
   "source": [
    "sns.distplot(df_flash['cosine'], label='gemini-flash-1.5')\n",
    "\n",
    "plt.title(\"RAG LLM performance\")\n",
    "plt.xlabel(\"A->Q->A' Cosine Similarity\")\n",
    "plt.legend()\n"
   ]
  },
  {
   "cell_type": "code",
   "execution_count": 34,
   "id": "821efee0-d8e2-46d7-a3bb-561a5c0eb889",
   "metadata": {},
   "outputs": [
    {
     "data": {
      "text/html": [
       "<div>\n",
       "<style scoped>\n",
       "    .dataframe tbody tr th:only-of-type {\n",
       "        vertical-align: middle;\n",
       "    }\n",
       "\n",
       "    .dataframe tbody tr th {\n",
       "        vertical-align: top;\n",
       "    }\n",
       "\n",
       "    .dataframe thead th {\n",
       "        text-align: right;\n",
       "    }\n",
       "</style>\n",
       "<table border=\"1\" class=\"dataframe\">\n",
       "  <thead>\n",
       "    <tr style=\"text-align: right;\">\n",
       "      <th></th>\n",
       "      <th>answer_llm</th>\n",
       "      <th>answer_orig</th>\n",
       "      <th>document</th>\n",
       "      <th>question</th>\n",
       "      <th>course</th>\n",
       "      <th>cosine</th>\n",
       "    </tr>\n",
       "  </thead>\n",
       "  <tbody>\n",
       "    <tr>\n",
       "      <th>0</th>\n",
       "      <td>You can sign up for the course by going to the...</td>\n",
       "      <td>Machine Learning Zoomcamp FAQ\\nThe purpose of ...</td>\n",
       "      <td>0227b872</td>\n",
       "      <td>Where can I sign up for the course?</td>\n",
       "      <td>machine-learning-zoomcamp</td>\n",
       "      <td>0.416958</td>\n",
       "    </tr>\n",
       "    <tr>\n",
       "      <th>1</th>\n",
       "      <td>You can sign up for the course by visiting the...</td>\n",
       "      <td>Machine Learning Zoomcamp FAQ\\nThe purpose of ...</td>\n",
       "      <td>0227b872</td>\n",
       "      <td>Can you provide a link to sign up?</td>\n",
       "      <td>machine-learning-zoomcamp</td>\n",
       "      <td>0.351351</td>\n",
       "    </tr>\n",
       "    <tr>\n",
       "      <th>2</th>\n",
       "      <td>Yes, there is a FAQ for the Machine Learning c...</td>\n",
       "      <td>Machine Learning Zoomcamp FAQ\\nThe purpose of ...</td>\n",
       "      <td>0227b872</td>\n",
       "      <td>Is there an FAQ for this Machine Learning course?</td>\n",
       "      <td>machine-learning-zoomcamp</td>\n",
       "      <td>0.765016</td>\n",
       "    </tr>\n",
       "    <tr>\n",
       "      <th>3</th>\n",
       "      <td>The context does not provide a direct answer r...</td>\n",
       "      <td>Machine Learning Zoomcamp FAQ\\nThe purpose of ...</td>\n",
       "      <td>0227b872</td>\n",
       "      <td>Does this course have a GitHub repository for ...</td>\n",
       "      <td>machine-learning-zoomcamp</td>\n",
       "      <td>0.006368</td>\n",
       "    </tr>\n",
       "    <tr>\n",
       "      <th>4</th>\n",
       "      <td>To structure your questions and answers for th...</td>\n",
       "      <td>Machine Learning Zoomcamp FAQ\\nThe purpose of ...</td>\n",
       "      <td>0227b872</td>\n",
       "      <td>How can I structure my questions and answers f...</td>\n",
       "      <td>machine-learning-zoomcamp</td>\n",
       "      <td>0.339877</td>\n",
       "    </tr>\n",
       "  </tbody>\n",
       "</table>\n",
       "</div>"
      ],
      "text/plain": [
       "                                          answer_llm  \\\n",
       "0  You can sign up for the course by going to the...   \n",
       "1  You can sign up for the course by visiting the...   \n",
       "2  Yes, there is a FAQ for the Machine Learning c...   \n",
       "3  The context does not provide a direct answer r...   \n",
       "4  To structure your questions and answers for th...   \n",
       "\n",
       "                                         answer_orig  document  \\\n",
       "0  Machine Learning Zoomcamp FAQ\\nThe purpose of ...  0227b872   \n",
       "1  Machine Learning Zoomcamp FAQ\\nThe purpose of ...  0227b872   \n",
       "2  Machine Learning Zoomcamp FAQ\\nThe purpose of ...  0227b872   \n",
       "3  Machine Learning Zoomcamp FAQ\\nThe purpose of ...  0227b872   \n",
       "4  Machine Learning Zoomcamp FAQ\\nThe purpose of ...  0227b872   \n",
       "\n",
       "                                            question  \\\n",
       "0                Where can I sign up for the course?   \n",
       "1                 Can you provide a link to sign up?   \n",
       "2  Is there an FAQ for this Machine Learning course?   \n",
       "3  Does this course have a GitHub repository for ...   \n",
       "4  How can I structure my questions and answers f...   \n",
       "\n",
       "                      course    cosine  \n",
       "0  machine-learning-zoomcamp  0.416958  \n",
       "1  machine-learning-zoomcamp  0.351351  \n",
       "2  machine-learning-zoomcamp  0.765016  \n",
       "3  machine-learning-zoomcamp  0.006368  \n",
       "4  machine-learning-zoomcamp  0.339877  "
      ]
     },
     "execution_count": 34,
     "metadata": {},
     "output_type": "execute_result"
    }
   ],
   "source": [
    "df_gpt = pd.read_csv(r'/workspaces/llm-zoomcamp/module-4/data/results-gpt4o-mini-cosine.csv')\n",
    "df_gpt.head()\n"
   ]
  },
  {
   "cell_type": "code",
   "execution_count": 35,
   "id": "0f833129-0f72-4f83-ab36-8349a024faf7",
   "metadata": {},
   "outputs": [
    {
     "data": {
      "text/html": [
       "<div>\n",
       "<style scoped>\n",
       "    .dataframe tbody tr th:only-of-type {\n",
       "        vertical-align: middle;\n",
       "    }\n",
       "\n",
       "    .dataframe tbody tr th {\n",
       "        vertical-align: top;\n",
       "    }\n",
       "\n",
       "    .dataframe thead th {\n",
       "        text-align: right;\n",
       "    }\n",
       "</style>\n",
       "<table border=\"1\" class=\"dataframe\">\n",
       "  <thead>\n",
       "    <tr style=\"text-align: right;\">\n",
       "      <th></th>\n",
       "      <th>answer_llm</th>\n",
       "      <th>answer_orig</th>\n",
       "      <th>document</th>\n",
       "      <th>question</th>\n",
       "      <th>course</th>\n",
       "      <th>prompt_tokens</th>\n",
       "      <th>result_tokens</th>\n",
       "      <th>prompt_caract</th>\n",
       "      <th>result_caract</th>\n",
       "      <th>prompt_cost</th>\n",
       "      <th>result_cost</th>\n",
       "      <th>total_cost</th>\n",
       "    </tr>\n",
       "  </thead>\n",
       "  <tbody>\n",
       "    <tr>\n",
       "      <th>0</th>\n",
       "      <td>I'm sorry, but the provided FAQ database does ...</td>\n",
       "      <td>Machine Learning Zoomcamp FAQ\\nThe purpose of ...</td>\n",
       "      <td>0227b872</td>\n",
       "      <td>Where can I sign up for the course?</td>\n",
       "      <td>machine-learning-zoomcamp</td>\n",
       "      <td>621</td>\n",
       "      <td>25</td>\n",
       "      <td>2484</td>\n",
       "      <td>100</td>\n",
       "      <td>0.000047</td>\n",
       "      <td>0.000007</td>\n",
       "      <td>0.000054</td>\n",
       "    </tr>\n",
       "    <tr>\n",
       "      <th>1</th>\n",
       "      <td>The sign-up link is: https://airtable.com/shry...</td>\n",
       "      <td>Machine Learning Zoomcamp FAQ\\nThe purpose of ...</td>\n",
       "      <td>0227b872</td>\n",
       "      <td>Can you provide a link to sign up?</td>\n",
       "      <td>machine-learning-zoomcamp</td>\n",
       "      <td>401</td>\n",
       "      <td>25</td>\n",
       "      <td>1604</td>\n",
       "      <td>100</td>\n",
       "      <td>0.000030</td>\n",
       "      <td>0.000007</td>\n",
       "      <td>0.000038</td>\n",
       "    </tr>\n",
       "    <tr>\n",
       "      <th>2</th>\n",
       "      <td>The provided context does not contain informat...</td>\n",
       "      <td>Machine Learning Zoomcamp FAQ\\nThe purpose of ...</td>\n",
       "      <td>0227b872</td>\n",
       "      <td>Is there an FAQ for this Machine Learning course?</td>\n",
       "      <td>machine-learning-zoomcamp</td>\n",
       "      <td>635</td>\n",
       "      <td>18</td>\n",
       "      <td>2540</td>\n",
       "      <td>72</td>\n",
       "      <td>0.000048</td>\n",
       "      <td>0.000005</td>\n",
       "      <td>0.000053</td>\n",
       "    </tr>\n",
       "    <tr>\n",
       "      <th>3</th>\n",
       "      <td>The FAQ database does not contain information ...</td>\n",
       "      <td>Machine Learning Zoomcamp FAQ\\nThe purpose of ...</td>\n",
       "      <td>0227b872</td>\n",
       "      <td>Does this course have a GitHub repository for ...</td>\n",
       "      <td>machine-learning-zoomcamp</td>\n",
       "      <td>917</td>\n",
       "      <td>18</td>\n",
       "      <td>3668</td>\n",
       "      <td>72</td>\n",
       "      <td>0.000069</td>\n",
       "      <td>0.000005</td>\n",
       "      <td>0.000074</td>\n",
       "    </tr>\n",
       "    <tr>\n",
       "      <th>4</th>\n",
       "      <td>The FAQ database does not contain information ...</td>\n",
       "      <td>Machine Learning Zoomcamp FAQ\\nThe purpose of ...</td>\n",
       "      <td>0227b872</td>\n",
       "      <td>How can I structure my questions and answers f...</td>\n",
       "      <td>machine-learning-zoomcamp</td>\n",
       "      <td>542</td>\n",
       "      <td>20</td>\n",
       "      <td>2168</td>\n",
       "      <td>80</td>\n",
       "      <td>0.000041</td>\n",
       "      <td>0.000006</td>\n",
       "      <td>0.000047</td>\n",
       "    </tr>\n",
       "  </tbody>\n",
       "</table>\n",
       "</div>"
      ],
      "text/plain": [
       "                                          answer_llm  \\\n",
       "0  I'm sorry, but the provided FAQ database does ...   \n",
       "1  The sign-up link is: https://airtable.com/shry...   \n",
       "2  The provided context does not contain informat...   \n",
       "3  The FAQ database does not contain information ...   \n",
       "4  The FAQ database does not contain information ...   \n",
       "\n",
       "                                         answer_orig  document  \\\n",
       "0  Machine Learning Zoomcamp FAQ\\nThe purpose of ...  0227b872   \n",
       "1  Machine Learning Zoomcamp FAQ\\nThe purpose of ...  0227b872   \n",
       "2  Machine Learning Zoomcamp FAQ\\nThe purpose of ...  0227b872   \n",
       "3  Machine Learning Zoomcamp FAQ\\nThe purpose of ...  0227b872   \n",
       "4  Machine Learning Zoomcamp FAQ\\nThe purpose of ...  0227b872   \n",
       "\n",
       "                                            question  \\\n",
       "0                Where can I sign up for the course?   \n",
       "1                 Can you provide a link to sign up?   \n",
       "2  Is there an FAQ for this Machine Learning course?   \n",
       "3  Does this course have a GitHub repository for ...   \n",
       "4  How can I structure my questions and answers f...   \n",
       "\n",
       "                      course  prompt_tokens  result_tokens  prompt_caract  \\\n",
       "0  machine-learning-zoomcamp            621             25           2484   \n",
       "1  machine-learning-zoomcamp            401             25           1604   \n",
       "2  machine-learning-zoomcamp            635             18           2540   \n",
       "3  machine-learning-zoomcamp            917             18           3668   \n",
       "4  machine-learning-zoomcamp            542             20           2168   \n",
       "\n",
       "   result_caract  prompt_cost  result_cost  total_cost  \n",
       "0            100     0.000047     0.000007    0.000054  \n",
       "1            100     0.000030     0.000007    0.000038  \n",
       "2             72     0.000048     0.000005    0.000053  \n",
       "3             72     0.000069     0.000005    0.000074  \n",
       "4             80     0.000041     0.000006    0.000047  "
      ]
     },
     "execution_count": 35,
     "metadata": {},
     "output_type": "execute_result"
    }
   ],
   "source": [
    "df_flash = pd.read_csv(r'/workspaces/llm-zoomcamp/module-4/data/results-flash.csv')\n",
    "df_flash.head()"
   ]
  },
  {
   "cell_type": "code",
   "execution_count": 42,
   "id": "8a40431d-4e52-45c9-9a3d-327d0dd21ac3",
   "metadata": {},
   "outputs": [
    {
     "data": {
      "application/vnd.jupyter.widget-view+json": {
       "model_id": "31b1a5d4d8db41d089de39414d907175",
       "version_major": 2,
       "version_minor": 0
      },
      "text/plain": [
       "  0%|          | 0/1830 [00:00<?, ?it/s]"
      ]
     },
     "metadata": {},
     "output_type": "display_data"
    },
    {
     "data": {
      "text/plain": [
       "count    1830.000000\n",
       "mean        0.595950\n",
       "std         0.233039\n",
       "min        -0.202480\n",
       "25%         0.465804\n",
       "50%         0.631836\n",
       "75%         0.765073\n",
       "max         1.000000\n",
       "Name: cosine, dtype: float64"
      ]
     },
     "execution_count": 42,
     "metadata": {},
     "output_type": "execute_result"
    }
   ],
   "source": [
    "results_flash = df_flash.to_dict(orient='records')\n",
    "similarity = []\n",
    "\n",
    "for record in tqdm(results_flash):\n",
    "    sim = compute_similarity(record)\n",
    "    similarity.append(sim)\n",
    "df_flash['cosine'] = similarity\n",
    "df_flash['cosine'].describe()"
   ]
  },
  {
   "cell_type": "code",
   "execution_count": 45,
   "id": "34cae3aa-8faf-48c9-afde-a7453be15098",
   "metadata": {},
   "outputs": [],
   "source": [
    "df_35=pd.read_csv(r'/workspaces/llm-zoomcamp/module-4/data/results-gpt35-cosine.csv')\n",
    "df_4o=pd.read_csv(r'/workspaces/llm-zoomcamp/module-4/data/results-gpt4o-cosine.csv')\n"
   ]
  },
  {
   "cell_type": "code",
   "execution_count": 46,
   "id": "45237f00-6627-4397-8884-84ccffa3dc4e",
   "metadata": {},
   "outputs": [
    {
     "name": "stderr",
     "output_type": "stream",
     "text": [
      "/tmp/ipykernel_3200/3402974616.py:1: UserWarning: \n",
      "\n",
      "`distplot` is a deprecated function and will be removed in seaborn v0.14.0.\n",
      "\n",
      "Please adapt your code to use either `displot` (a figure-level function with\n",
      "similar flexibility) or `histplot` (an axes-level function for histograms).\n",
      "\n",
      "For a guide to updating your code to use the new functions, please see\n",
      "https://gist.github.com/mwaskom/de44147ed2974457ad6372750bbe5751\n",
      "\n",
      "  sns.distplot(df_gpt['cosine'], label='gpt-4o-mini')\n",
      "/tmp/ipykernel_3200/3402974616.py:2: UserWarning: \n",
      "\n",
      "`distplot` is a deprecated function and will be removed in seaborn v0.14.0.\n",
      "\n",
      "Please adapt your code to use either `displot` (a figure-level function with\n",
      "similar flexibility) or `histplot` (an axes-level function for histograms).\n",
      "\n",
      "For a guide to updating your code to use the new functions, please see\n",
      "https://gist.github.com/mwaskom/de44147ed2974457ad6372750bbe5751\n",
      "\n",
      "  sns.distplot(df_flash['cosine'], label='gemini-flash-1.5')\n",
      "/tmp/ipykernel_3200/3402974616.py:3: UserWarning: \n",
      "\n",
      "`distplot` is a deprecated function and will be removed in seaborn v0.14.0.\n",
      "\n",
      "Please adapt your code to use either `displot` (a figure-level function with\n",
      "similar flexibility) or `histplot` (an axes-level function for histograms).\n",
      "\n",
      "For a guide to updating your code to use the new functions, please see\n",
      "https://gist.github.com/mwaskom/de44147ed2974457ad6372750bbe5751\n",
      "\n",
      "  sns.distplot(df_pro['cosine'], label='gemini-pro-1.5')\n",
      "/tmp/ipykernel_3200/3402974616.py:4: UserWarning: \n",
      "\n",
      "`distplot` is a deprecated function and will be removed in seaborn v0.14.0.\n",
      "\n",
      "Please adapt your code to use either `displot` (a figure-level function with\n",
      "similar flexibility) or `histplot` (an axes-level function for histograms).\n",
      "\n",
      "For a guide to updating your code to use the new functions, please see\n",
      "https://gist.github.com/mwaskom/de44147ed2974457ad6372750bbe5751\n",
      "\n",
      "  sns.distplot(df_35['cosine'], label='gpt-3.5')\n",
      "/tmp/ipykernel_3200/3402974616.py:5: UserWarning: \n",
      "\n",
      "`distplot` is a deprecated function and will be removed in seaborn v0.14.0.\n",
      "\n",
      "Please adapt your code to use either `displot` (a figure-level function with\n",
      "similar flexibility) or `histplot` (an axes-level function for histograms).\n",
      "\n",
      "For a guide to updating your code to use the new functions, please see\n",
      "https://gist.github.com/mwaskom/de44147ed2974457ad6372750bbe5751\n",
      "\n",
      "  sns.distplot(df_4o['cosine'], label='gpt-4o')\n"
     ]
    },
    {
     "data": {
      "text/plain": [
       "<matplotlib.legend.Legend at 0x7af38dc628a0>"
      ]
     },
     "execution_count": 46,
     "metadata": {},
     "output_type": "execute_result"
    },
    {
     "data": {
      "image/png": "[encoded data removed]",
      "text/plain": [
       "<Figure size 640x480 with 1 Axes>"
      ]
     },
     "metadata": {},
     "output_type": "display_data"
    }
   ],
   "source": [
    "sns.distplot(df_gpt['cosine'], label='gpt-4o-mini')\n",
    "sns.distplot(df_flash['cosine'], label='gemini-flash-1.5')\n",
    "sns.distplot(df_pro['cosine'], label='gemini-pro-1.5')\n",
    "sns.distplot(df_35['cosine'], label='gpt-3.5')\n",
    "sns.distplot(df_4o['cosine'], label='gpt-4o')\n",
    "plt.title(\"RAG LLM performance\")\n",
    "plt.xlabel(\"A->Q->A' Cosine Similarity\")\n",
    "plt.legend()"
   ]
  },
  {
   "cell_type": "code",
   "execution_count": null,
   "id": "e0aed21a-7403-40c0-a6da-c642db207af3",
   "metadata": {},
   "outputs": [],
   "source": []
  }
 ],
 "metadata": {
  "kernelspec": {
   "display_name": "Python 3 (ipykernel)",
   "language": "python",
   "name": "python3"
  },
  "language_info": {
   "codemirror_mode": {
    "name": "ipython",
    "version": 3
   },
   "file_extension": ".py",
   "mimetype": "text/x-python",
   "name": "python",
   "nbconvert_exporter": "python",
   "pygments_lexer": "ipython3",
   "version": "3.12.1"
  }
 },
 "nbformat": 4,
 "nbformat_minor": 5
}
